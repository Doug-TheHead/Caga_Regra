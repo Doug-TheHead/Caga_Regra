{
  "nbformat": 4,
  "nbformat_minor": 0,
  "metadata": {
    "colab": {
      "provenance": [],
      "authorship_tag": "ABX9TyPIP9Kxz4AuiVNfmBSPTdxh",
      "include_colab_link": true
    },
    "kernelspec": {
      "name": "python3",
      "display_name": "Python 3"
    },
    "language_info": {
      "name": "python"
    }
  },
  "cells": [
    {
      "cell_type": "markdown",
      "metadata": {
        "id": "view-in-github",
        "colab_type": "text"
      },
      "source": [
        "<a href=\"https://colab.research.google.com/github/Doug-TheHead/Caga_Regra/blob/main/Untitled0.ipynb\" target=\"_parent\"><img src=\"https://colab.research.google.com/assets/colab-badge.svg\" alt=\"Open In Colab\"/></a>"
      ]
    },
    {
      "cell_type": "code",
      "execution_count": 1,
      "metadata": {
        "colab": {
          "base_uri": "https://localhost:8080/"
        },
        "id": "kze27VPfkMeC",
        "outputId": "87918849-6986-42cb-e160-b993ddd9edaf"
      },
      "outputs": [
        {
          "output_type": "stream",
          "name": "stdout",
          "text": [
            "\u001b[2K     \u001b[90m━━━━━━━━━━━━━━━━━━━━━━━━━━━━━━━━━━━━━━━━\u001b[0m \u001b[32m150.7/150.7 kB\u001b[0m \u001b[31m3.3 MB/s\u001b[0m eta \u001b[36m0:00:00\u001b[0m\n",
            "\u001b[2K     \u001b[90m━━━━━━━━━━━━━━━━━━━━━━━━━━━━━━━━━━━━━━━━\u001b[0m \u001b[32m677.8/677.8 kB\u001b[0m \u001b[31m10.3 MB/s\u001b[0m eta \u001b[36m0:00:00\u001b[0m\n",
            "\u001b[?25h"
          ]
        }
      ],
      "source": [
        "!pip install -q -U google-generativeai\n",
        "\n",
        "# Import the Python SDK\n",
        "import google.generativeai as genai\n",
        "\n",
        "from google.colab import userdata\n",
        "api_key = userdata.get(\"secret_key\")\n",
        "genai.configure(api_key=api_key)\n"
      ]
    },
    {
      "cell_type": "code",
      "source": [
        "\n",
        "for m in genai.list_models():\n",
        "  if 'generateContent' in m.supported_generation_methods:\n",
        "    print(m.name)"
      ],
      "metadata": {
        "colab": {
          "base_uri": "https://localhost:8080/",
          "height": 139
        },
        "id": "B83u61v4k4Fq",
        "outputId": "dbf0eb18-c8e1-4cd3-86fa-48ee82e6b276"
      },
      "execution_count": 2,
      "outputs": [
        {
          "output_type": "stream",
          "name": "stdout",
          "text": [
            "models/gemini-1.0-pro\n",
            "models/gemini-1.0-pro-001\n",
            "models/gemini-1.0-pro-latest\n",
            "models/gemini-1.0-pro-vision-latest\n",
            "models/gemini-1.5-pro-latest\n",
            "models/gemini-pro\n",
            "models/gemini-pro-vision\n"
          ]
        }
      ]
    },
    {
      "cell_type": "code",
      "source": [
        "generation_config = {\n",
        "    \"candidate_count\": 1,\n",
        "    \"temperature\": 0.5,\n",
        "    #\"top P\": 0.5,\n",
        "    #\"top K\": 5,\n",
        "}"
      ],
      "metadata": {
        "id": "MTYzd5mFlx5I"
      },
      "execution_count": 16,
      "outputs": []
    },
    {
      "cell_type": "code",
      "source": [
        "safety_settings = {\n",
        "    \"HARASSMENT\": \"BLOCK_NONE\",\n",
        "    \"HATE\": \"BLOCK_NONE\",\n",
        "    \"SEXUAL\": \"BLOCK_NONE\",\n",
        "    \"DANGEROUS\": \"BLOCK_NONE\",\n",
        "}"
      ],
      "metadata": {
        "id": "HWTJ53d-mKQN"
      },
      "execution_count": 17,
      "outputs": []
    },
    {
      "cell_type": "code",
      "source": [
        "model = genai.GenerativeModel(model_name=\"gemini-1.0-pro-latest\",\n",
        "                              generation_config=generation_config,\n",
        "                              safety_settings=safety_settings,\n",
        "                                                            )"
      ],
      "metadata": {
        "id": "DIZvlfY-nJLW"
      },
      "execution_count": 18,
      "outputs": []
    },
    {
      "cell_type": "code",
      "source": [
        "chat = model.start_chat (history=[])"
      ],
      "metadata": {
        "id": "XcX1_2lCn8uQ"
      },
      "execution_count": 22,
      "outputs": []
    },
    {
      "cell_type": "code",
      "source": [
        "prompt = input(\"O que você quer saber?\")\n",
        "\n",
        "while prompt != \"fim\":\n",
        "  response = chat.send_message(prompt)\n",
        "  print(\"Resposta: \", response.text, \"\\n\")\n",
        "  prompt = input(\"O que você quer saber?\")"
      ],
      "metadata": {
        "colab": {
          "base_uri": "https://localhost:8080/",
          "height": 1000
        },
        "id": "n3Vb4c6SofaO",
        "outputId": "a8176b70-f7d2-4480-f693-6163b215fc6b"
      },
      "execution_count": 29,
      "outputs": [
        {
          "output_type": "stream",
          "name": "stdout",
          "text": [
            "O que você quer saber?o que é embbeding\n",
            "Resposta:  **Embbeding** (ou **incorporação**) é o processo de inserir conteúdo de uma fonte externa em uma página da web ou documento. Isso permite que os usuários acessem o conteúdo externo sem precisar sair da página ou documento atual.\n",
            "\n",
            "**Como funciona:**\n",
            "\n",
            "* O conteúdo externo (por exemplo, um vídeo, imagem ou código) é hospedado em um servidor remoto.\n",
            "* O conteúdo é referenciado na página ou documento atual usando um código de incorporação.\n",
            "* Quando a página ou documento é carregado, o código de incorporação carrega o conteúdo externo e o exibe na página ou documento.\n",
            "\n",
            "**Tipos de conteúdo que podem ser incorporados:**\n",
            "\n",
            "* Vídeos (por exemplo, YouTube, Vimeo)\n",
            "* Imagens (por exemplo, Instagram, Flickr)\n",
            "* Áudio (por exemplo, SoundCloud, Spotify)\n",
            "* Códigos (por exemplo, mapas do Google, widgets de mídia social)\n",
            "* Documentos (por exemplo, Google Docs, PDFs)\n",
            "\n",
            "**Benefícios da incorporação:**\n",
            "\n",
            "* **Conveniência:** Permite que os usuários acessem conteúdo externo sem sair da página ou documento atual.\n",
            "* **Melhoria da experiência do usuário:** Torna o conteúdo mais envolvente e interativo.\n",
            "* **Compartilhamento fácil:** Permite que os usuários compartilhem conteúdo externo facilmente com outras pessoas.\n",
            "* **Otimização de SEO:** Pode ajudar a melhorar a classificação do site nos mecanismos de pesquisa, pois o conteúdo incorporado é indexado pelos mecanismos de pesquisa.\n",
            "\n",
            "**Considerações:**\n",
            "\n",
            "* **Direitos autorais:** É importante garantir que você tenha permissão para incorporar o conteúdo externo.\n",
            "* **Tamanho do arquivo:** A incorporação de conteúdo de arquivos grandes pode tornar a página ou documento lento para carregar.\n",
            "* **Compatibilidade:** Nem todos os dispositivos e navegadores suportam todos os tipos de conteúdo incorporado.\n",
            "\n",
            "**Exemplo:**\n",
            "\n",
            "Para incorporar um vídeo do YouTube em uma página da web, você pode usar o seguinte código:\n",
            "\n",
            "```html\n",
            "<iframe src=\"https://www.youtube.com/embed/VIDEO_ID\" width=\"560\" height=\"315\"></iframe>\n",
            "```\n",
            "\n",
            "Substitua \"VIDEO_ID\" pelo ID do vídeo do YouTube que você deseja incorporar. \n",
            "\n"
          ]
        },
        {
          "output_type": "error",
          "ename": "KeyboardInterrupt",
          "evalue": "Interrupted by user",
          "traceback": [
            "\u001b[0;31m---------------------------------------------------------------------------\u001b[0m",
            "\u001b[0;31mKeyboardInterrupt\u001b[0m                         Traceback (most recent call last)",
            "\u001b[0;32m<ipython-input-29-a3979d10abc3>\u001b[0m in \u001b[0;36m<cell line: 3>\u001b[0;34m()\u001b[0m\n\u001b[1;32m      4\u001b[0m   \u001b[0mresponse\u001b[0m \u001b[0;34m=\u001b[0m \u001b[0mchat\u001b[0m\u001b[0;34m.\u001b[0m\u001b[0msend_message\u001b[0m\u001b[0;34m(\u001b[0m\u001b[0mprompt\u001b[0m\u001b[0;34m)\u001b[0m\u001b[0;34m\u001b[0m\u001b[0;34m\u001b[0m\u001b[0m\n\u001b[1;32m      5\u001b[0m   \u001b[0mprint\u001b[0m\u001b[0;34m(\u001b[0m\u001b[0;34m\"Resposta: \"\u001b[0m\u001b[0;34m,\u001b[0m \u001b[0mresponse\u001b[0m\u001b[0;34m.\u001b[0m\u001b[0mtext\u001b[0m\u001b[0;34m,\u001b[0m \u001b[0;34m\"\\n\"\u001b[0m\u001b[0;34m)\u001b[0m\u001b[0;34m\u001b[0m\u001b[0;34m\u001b[0m\u001b[0m\n\u001b[0;32m----> 6\u001b[0;31m   \u001b[0mprompt\u001b[0m \u001b[0;34m=\u001b[0m \u001b[0minput\u001b[0m\u001b[0;34m(\u001b[0m\u001b[0;34m\"O que você quer saber?\"\u001b[0m\u001b[0;34m)\u001b[0m\u001b[0;34m\u001b[0m\u001b[0;34m\u001b[0m\u001b[0m\n\u001b[0m",
            "\u001b[0;32m/usr/local/lib/python3.10/dist-packages/ipykernel/kernelbase.py\u001b[0m in \u001b[0;36mraw_input\u001b[0;34m(self, prompt)\u001b[0m\n\u001b[1;32m    849\u001b[0m                 \u001b[0;34m\"raw_input was called, but this frontend does not support input requests.\"\u001b[0m\u001b[0;34m\u001b[0m\u001b[0;34m\u001b[0m\u001b[0m\n\u001b[1;32m    850\u001b[0m             )\n\u001b[0;32m--> 851\u001b[0;31m         return self._input_request(str(prompt),\n\u001b[0m\u001b[1;32m    852\u001b[0m             \u001b[0mself\u001b[0m\u001b[0;34m.\u001b[0m\u001b[0m_parent_ident\u001b[0m\u001b[0;34m,\u001b[0m\u001b[0;34m\u001b[0m\u001b[0;34m\u001b[0m\u001b[0m\n\u001b[1;32m    853\u001b[0m             \u001b[0mself\u001b[0m\u001b[0;34m.\u001b[0m\u001b[0m_parent_header\u001b[0m\u001b[0;34m,\u001b[0m\u001b[0;34m\u001b[0m\u001b[0;34m\u001b[0m\u001b[0m\n",
            "\u001b[0;32m/usr/local/lib/python3.10/dist-packages/ipykernel/kernelbase.py\u001b[0m in \u001b[0;36m_input_request\u001b[0;34m(self, prompt, ident, parent, password)\u001b[0m\n\u001b[1;32m    893\u001b[0m             \u001b[0;32mexcept\u001b[0m \u001b[0mKeyboardInterrupt\u001b[0m\u001b[0;34m:\u001b[0m\u001b[0;34m\u001b[0m\u001b[0;34m\u001b[0m\u001b[0m\n\u001b[1;32m    894\u001b[0m                 \u001b[0;31m# re-raise KeyboardInterrupt, to truncate traceback\u001b[0m\u001b[0;34m\u001b[0m\u001b[0;34m\u001b[0m\u001b[0m\n\u001b[0;32m--> 895\u001b[0;31m                 \u001b[0;32mraise\u001b[0m \u001b[0mKeyboardInterrupt\u001b[0m\u001b[0;34m(\u001b[0m\u001b[0;34m\"Interrupted by user\"\u001b[0m\u001b[0;34m)\u001b[0m \u001b[0;32mfrom\u001b[0m \u001b[0;32mNone\u001b[0m\u001b[0;34m\u001b[0m\u001b[0;34m\u001b[0m\u001b[0m\n\u001b[0m\u001b[1;32m    896\u001b[0m             \u001b[0;32mexcept\u001b[0m \u001b[0mException\u001b[0m \u001b[0;32mas\u001b[0m \u001b[0me\u001b[0m\u001b[0;34m:\u001b[0m\u001b[0;34m\u001b[0m\u001b[0;34m\u001b[0m\u001b[0m\n\u001b[1;32m    897\u001b[0m                 \u001b[0mself\u001b[0m\u001b[0;34m.\u001b[0m\u001b[0mlog\u001b[0m\u001b[0;34m.\u001b[0m\u001b[0mwarning\u001b[0m\u001b[0;34m(\u001b[0m\u001b[0;34m\"Invalid Message:\"\u001b[0m\u001b[0;34m,\u001b[0m \u001b[0mexc_info\u001b[0m\u001b[0;34m=\u001b[0m\u001b[0;32mTrue\u001b[0m\u001b[0;34m)\u001b[0m\u001b[0;34m\u001b[0m\u001b[0;34m\u001b[0m\u001b[0m\n",
            "\u001b[0;31mKeyboardInterrupt\u001b[0m: Interrupted by user"
          ]
        }
      ]
    },
    {
      "cell_type": "code",
      "source": [
        "import textwrap\n",
        "from IPython.display import display\n",
        "from IPython.display import Markdown\n",
        "\n",
        "def to_markdown(text):\n",
        "  text = text.replace('•', '  *')\n",
        "  return Markdown(textwrap.indent(text, '> ', predicate=lambda _: True))\n",
        "\n",
        "#Imprimindo o histórico\n",
        "for message in chat.history:\n",
        "  display(to_markdown(f'**{message.role}**: {message.parts[0].text}'))\n",
        "  print('-------------------------------------------')"
      ],
      "metadata": {
        "colab": {
          "base_uri": "https://localhost:8080/",
          "height": 1000
        },
        "id": "6m4QzKM7rYkH",
        "outputId": "d60ce4ca-23cd-49ad-bb6b-fce44abeab5c"
      },
      "execution_count": 30,
      "outputs": [
        {
          "output_type": "display_data",
          "data": {
            "text/plain": [
              "<IPython.core.display.Markdown object>"
            ],
            "text/markdown": "> **user**: o que é embbed"
          },
          "metadata": {}
        },
        {
          "output_type": "stream",
          "name": "stdout",
          "text": [
            "-------------------------------------------\n"
          ]
        },
        {
          "output_type": "display_data",
          "data": {
            "text/plain": [
              "<IPython.core.display.Markdown object>"
            ],
            "text/markdown": "> **model**: **Embbed** (ou **incorporação**) é o processo de incorporar conteúdo de uma fonte externa em uma página da web ou documento. Isso permite que os usuários acessem o conteúdo externo sem precisar sair da página ou documento atual.\n> \n> **Como funciona:**\n> \n> * O conteúdo externo (por exemplo, um vídeo, imagem ou código) é hospedado em um servidor remoto.\n> * O conteúdo é referenciado na página ou documento atual usando um código de incorporação.\n> * Quando a página ou documento é carregado, o código de incorporação carrega o conteúdo externo e o exibe na página ou documento.\n> \n> **Tipos de conteúdo que podem ser incorporados:**\n> \n> * Vídeos (por exemplo, YouTube, Vimeo)\n> * Imagens (por exemplo, Instagram, Flickr)\n> * Áudio (por exemplo, SoundCloud, Spotify)\n> * Códigos (por exemplo, mapas do Google, widgets de mídia social)\n> * Documentos (por exemplo, Google Docs, PDFs)\n> \n> **Benefícios da incorporação:**\n> \n> * **Conveniência:** Permite que os usuários acessem conteúdo externo sem sair da página ou documento atual.\n> * **Melhoria da experiência do usuário:** Torna o conteúdo mais envolvente e interativo.\n> * **Compartilhamento fácil:** Permite que os usuários compartilhem conteúdo externo facilmente com outras pessoas.\n> * **Otimização de SEO:** Pode ajudar a melhorar a classificação do site nos mecanismos de pesquisa, pois o conteúdo incorporado é indexado pelos mecanismos de pesquisa.\n> \n> **Considerações:**\n> \n> * **Direitos autorais:** É importante garantir que você tenha permissão para incorporar o conteúdo externo.\n> * **Tamanho do arquivo:** A incorporação de conteúdo de arquivos grandes pode tornar a página ou documento lento para carregar.\n> * **Compatibilidade:** Nem todos os dispositivos e navegadores suportam todos os tipos de conteúdo incorporado."
          },
          "metadata": {}
        },
        {
          "output_type": "stream",
          "name": "stdout",
          "text": [
            "-------------------------------------------\n"
          ]
        },
        {
          "output_type": "display_data",
          "data": {
            "text/plain": [
              "<IPython.core.display.Markdown object>"
            ],
            "text/markdown": "> **user**: o que é embbeding"
          },
          "metadata": {}
        },
        {
          "output_type": "stream",
          "name": "stdout",
          "text": [
            "-------------------------------------------\n"
          ]
        },
        {
          "output_type": "display_data",
          "data": {
            "text/plain": [
              "<IPython.core.display.Markdown object>"
            ],
            "text/markdown": "> **model**: **Embbeding** (ou **incorporação**) é o processo de inserir conteúdo de uma fonte externa em uma página da web ou documento. Isso permite que os usuários acessem o conteúdo externo sem precisar sair da página ou documento atual.\n> \n> **Como funciona:**\n> \n> * O conteúdo externo (por exemplo, um vídeo, imagem ou código) é hospedado em um servidor remoto.\n> * O conteúdo é referenciado na página ou documento atual usando um código de incorporação.\n> * Quando a página ou documento é carregado, o código de incorporação carrega o conteúdo externo e o exibe na página ou documento.\n> \n> **Tipos de conteúdo que podem ser incorporados:**\n> \n> * Vídeos (por exemplo, YouTube, Vimeo)\n> * Imagens (por exemplo, Instagram, Flickr)\n> * Áudio (por exemplo, SoundCloud, Spotify)\n> * Códigos (por exemplo, mapas do Google, widgets de mídia social)\n> * Documentos (por exemplo, Google Docs, PDFs)\n> \n> **Benefícios da incorporação:**\n> \n> * **Conveniência:** Permite que os usuários acessem conteúdo externo sem sair da página ou documento atual.\n> * **Melhoria da experiência do usuário:** Torna o conteúdo mais envolvente e interativo.\n> * **Compartilhamento fácil:** Permite que os usuários compartilhem conteúdo externo facilmente com outras pessoas.\n> * **Otimização de SEO:** Pode ajudar a melhorar a classificação do site nos mecanismos de pesquisa, pois o conteúdo incorporado é indexado pelos mecanismos de pesquisa.\n> \n> **Considerações:**\n> \n> * **Direitos autorais:** É importante garantir que você tenha permissão para incorporar o conteúdo externo.\n> * **Tamanho do arquivo:** A incorporação de conteúdo de arquivos grandes pode tornar a página ou documento lento para carregar.\n> * **Compatibilidade:** Nem todos os dispositivos e navegadores suportam todos os tipos de conteúdo incorporado.\n> \n> **Exemplo:**\n> \n> Para incorporar um vídeo do YouTube em uma página da web, você pode usar o seguinte código:\n> \n> ```html\n> <iframe src=\"https://www.youtube.com/embed/VIDEO_ID\" width=\"560\" height=\"315\"></iframe>\n> ```\n> \n> Substitua \"VIDEO_ID\" pelo ID do vídeo do YouTube que você deseja incorporar."
          },
          "metadata": {}
        },
        {
          "output_type": "stream",
          "name": "stdout",
          "text": [
            "-------------------------------------------\n"
          ]
        }
      ]
    }
  ]
}